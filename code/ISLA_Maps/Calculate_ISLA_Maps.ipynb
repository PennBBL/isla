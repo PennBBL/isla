{
 "cells": [
  {
   "cell_type": "markdown",
   "metadata": {},
   "source": [
    "# Calculating ISLA Maps with IMCo\n",
    "\n",
    "*By Tinashe M. Tapera*\n",
    "\n",
    "*Updated 1 February 2019*"
   ]
  },
  {
   "cell_type": "code",
   "execution_count": 1,
   "metadata": {},
   "outputs": [
    {
     "name": "stdout",
     "output_type": "stream",
     "text": [
      "Last run Fri Feb 1 17:56:54 EST 2019\n"
     ]
    }
   ],
   "source": [
    "echo Last run `date`"
   ]
  },
  {
   "cell_type": "markdown",
   "metadata": {},
   "source": [
    "This document shows how to create ISLA images from the PNC datafreeze images. The following is just a walk through of the code; to execute it, a working version of the `imco` package is necessary, which currently only works on *singularity*.\n",
    "\n",
    "First, gather the data and run `imco()`, which you can find in [this script](). The sample selection criteria can be examined [here](https://github.com/PennBBL/isla/blob/master/code/ReproducibilityScripts/n1601_SampleCreationNotebook.md)."
   ]
  },
  {
   "cell_type": "code",
   "execution_count": 2,
   "metadata": {},
   "outputs": [
    {
     "name": "stdout",
     "output_type": "stream",
     "text": [
      "\"\",\"bblid\",\"scanid\"\n",
      "\"1\",80812,2646\n",
      "\"2\",80607,2647\n",
      "\"3\",80249,2648\n",
      "\"4\",80854,2675\n",
      "\"5\",81826,2682\n",
      "\"6\",82232,2706\n",
      "\"7\",80575,2725\n",
      "\"8\",80425,2726\n",
      "\"9\",81287,2738\n"
     ]
    }
   ],
   "source": [
    "# the value we're correlating with GMD\n",
    "modality=cbf\n",
    "\n",
    "# find the mask and the participant sample\n",
    "cbfMask=/data/jux/BBL/projects/isla/data/Masks/gm10perc_PcaslCoverageMask.nii.gz\n",
    "cbfParticipants=/data/jux/BBL/projects/isla/data/cbfSample.csv\n",
    "\n",
    "head $cbfParticipants"
   ]
  },
  {
   "cell_type": "markdown",
   "metadata": {},
   "source": [
    "You can test your call to IMCo with a single participant:"
   ]
  },
  {
   "cell_type": "code",
   "execution_count": 3,
   "metadata": {},
   "outputs": [
    {
     "name": "stdout",
     "output_type": "stream",
     "text": [
      "During startup - Warning messages:\n",
      "1: Setting LC_CTYPE failed, using \"C\" \n",
      "2: Setting LC_COLLATE failed, using \"C\" \n",
      "3: Setting LC_TIME failed, using \"C\" \n",
      "4: Setting LC_MESSAGES failed, using \"C\" \n",
      "5: Setting LC_MONETARY failed, using \"C\" \n",
      "6: Setting LC_PAPER failed, using \"C\" \n",
      "7: Setting LC_MEASUREMENT failed, using \"C\" \n",
      "[1] \"Running imco with neighbourhood: 3,\\nBBLID: 81287\\nScanID: 2738,\\nMask: /home/ttapera/data/jux/BBL/projects/isla/data/Masks/gm10perc_PcaslCoverageMask.nii.gz\"\n",
      "oro.nifti 0.9.1\n",
      "\n",
      "Attaching package: 'ANTsRCore'\n",
      "\n",
      "The following objects are masked from 'package:oro.nifti':\n",
      "\n",
      "    origin, origin<-\n",
      "\n",
      "The following object is masked from 'package:stats':\n",
      "\n",
      "    var\n",
      "\n",
      "The following objects are masked from 'package:base':\n",
      "\n",
      "    all, any, apply, max, min, prod, range, sum\n",
      "\n",
      "\n",
      "Attaching package: 'extrantsr'\n",
      "\n",
      "The following objects are masked from 'package:ANTsRCore':\n",
      "\n",
      "    origin, origin<-\n",
      "\n",
      "The following objects are masked from 'package:oro.nifti':\n",
      "\n",
      "    origin, origin<-\n",
      "\n",
      "\n",
      "Attaching package: 'dplyr'\n",
      "\n",
      "The following object is masked from 'package:oro.nifti':\n",
      "\n",
      "    slice\n",
      "\n",
      "The following objects are masked from 'package:stats':\n",
      "\n",
      "    filter, lag\n",
      "\n",
      "The following objects are masked from 'package:base':\n",
      "\n",
      "    intersect, setdiff, setequal, union\n",
      "\n",
      "[[1]]\n",
      "[1] FALSE\n",
      "\n",
      "[[2]]\n",
      "[1] TRUE\n",
      "\n",
      "[[3]]\n",
      "[1] TRUE\n",
      "\n",
      "[[4]]\n",
      "[1] TRUE\n",
      "\n",
      "[[5]]\n",
      "[1] TRUE\n",
      "\n",
      "[[6]]\n",
      "[1] TRUE\n",
      "\n",
      "[[7]]\n",
      "[1] TRUE\n",
      "\n",
      "[[8]]\n",
      "[1] TRUE\n",
      "\n",
      "[[9]]\n",
      "[1] TRUE\n",
      "\n",
      "There were 50 or more warnings (use warnings() to see the first 50)\n",
      "[1] \"CBF read in successfully\"\n",
      "[1] \"GMD read in successully\"\n",
      "[1] \"mask read in successfully\"\n",
      "# Extracting neighborhood data \n",
      "# Computing weighted regressions \n",
      "NULL\n",
      "Done!\n"
     ]
    }
   ],
   "source": [
    "bblid=81287\n",
    "scanid=2738\n",
    "output_images=/data/jux/BBL/projects/isla/data/imco1/gmd_$modality/$bblid\n",
    "\n",
    "# the size of the local kernel\n",
    "size=3\n",
    "\n",
    "/share/apps/singularity/2.5.1/bin/singularity exec -B /data:/home/ttapera/data /data/joy/BBL/applications/bids_apps/imco1.simg Rscript /home/ttapera/data/jux/BBL/projects/isla/code/ISLA_Maps/IMCo_Call.R $bblid $scanid /home/ttapera$cbfMask $modality $size\n",
    "echo Done!"
   ]
  },
  {
   "cell_type": "markdown",
   "metadata": {},
   "source": [
    "Next, we extrapolate the maps using the script `Extrapolate.R`:"
   ]
  },
  {
   "cell_type": "code",
   "execution_count": 4,
   "metadata": {},
   "outputs": [
    {
     "name": "stdout",
     "output_type": "stream",
     "text": [
      "Loading required package: oro.nifti\n",
      "oro.nifti 0.9.9\n",
      "\n",
      "Attaching package: ‘dplyr’\n",
      "\n",
      "The following object is masked from ‘package:oro.nifti’:\n",
      "\n",
      "    slice\n",
      "\n",
      "The following objects are masked from ‘package:stats’:\n",
      "\n",
      "    filter, lag\n",
      "\n",
      "The following objects are masked from ‘package:base’:\n",
      "\n",
      "    intersect, setdiff, setequal, union\n",
      "\n",
      "Predict GMD=1 successful\n",
      "Predict GMD + slope successful\n",
      "Y image read in successful\n",
      "Complete\n"
     ]
    }
   ],
   "source": [
    "Rscript /data/jux/BBL/projects/isla/code/ISLA_Maps/Extrapolate.R $output_images $bblid $scanid $modality"
   ]
  },
  {
   "cell_type": "markdown",
   "metadata": {},
   "source": [
    "Lastly, we calculate the difference maps using `Calculate_Diff_Map.R`, which takes the same inputs:"
   ]
  },
  {
   "cell_type": "code",
   "execution_count": 5,
   "metadata": {},
   "outputs": [
    {
     "name": "stdout",
     "output_type": "stream",
     "text": [
      "Loading required package: oro.nifti\n",
      "oro.nifti 0.9.9\n",
      "Loading required package: neurobase\n",
      "\n",
      "Attaching package: ‘dplyr’\n",
      "\n",
      "The following objects are masked from ‘package:data.table’:\n",
      "\n",
      "    between, first, last\n",
      "\n",
      "The following object is masked from ‘package:oro.nifti’:\n",
      "\n",
      "    slice\n",
      "\n",
      "The following objects are masked from ‘package:stats’:\n",
      "\n",
      "    filter, lag\n",
      "\n",
      "The following objects are masked from ‘package:base’:\n",
      "\n",
      "    intersect, setdiff, setequal, union\n",
      "\n",
      "Isla read in successful\n",
      "Y image read in successful\n",
      "Complete\n"
     ]
    }
   ],
   "source": [
    "Rscript /data/jux/BBL/projects/isla/code/ISLA_Maps/Calculate_Diff_Map.R $output_images $bblid $scanid $modality"
   ]
  },
  {
   "cell_type": "markdown",
   "metadata": {},
   "source": [
    "Now, for each of the images created, we want to modify the names such that they are compliant with our naming conventions. This is `{bblid}_{scanid}_imageName_vox{size}.nii.gz`, and for this we use the script `TidyRename.R`:"
   ]
  },
  {
   "cell_type": "code",
   "execution_count": 6,
   "metadata": {},
   "outputs": [
    {
     "name": "stdout",
     "output_type": "stream",
     "text": [
      "\n",
      "Attaching package: ‘dplyr’\n",
      "\n",
      "The following objects are masked from ‘package:stats’:\n",
      "\n",
      "    filter, lag\n",
      "\n",
      "The following objects are masked from ‘package:base’:\n",
      "\n",
      "    intersect, setdiff, setequal, union\n",
      "\n",
      "[1] TRUE TRUE TRUE TRUE TRUE TRUE TRUE\n",
      "Files renamed successfully\n"
     ]
    }
   ],
   "source": [
    "# note that the $modality flag has been replaced with the voxel size\n",
    "Rscript /data/jux/BBL/projects/isla/code/ISLA_Maps/TidyRename.R $output_images $bblid $scanid $size"
   ]
  },
  {
   "cell_type": "code",
   "execution_count": 7,
   "metadata": {},
   "outputs": [
    {
     "name": "stdout",
     "output_type": "stream",
     "text": [
      "/data/jux/BBL/projects/isla/data/imco1/gmd_cbf/81287\n",
      "\u001b[0m\u001b[38;5;9m2738_beta0_vox3.nii.gz\u001b[0m      \u001b[38;5;9m2738_predictedGMD1_vox3.nii.gz\u001b[0m\n",
      "\u001b[38;5;9m2738_beta1_vox3.nii.gz\u001b[0m      \u001b[38;5;9m2738_predictedGMDobs_vox3.nii.gz\u001b[0m\n",
      "\u001b[38;5;9m2738_isla_diff_vox3.nii.gz\u001b[0m  \u001b[38;5;9m2738_rsquared_vox3.nii.gz\u001b[0m\n",
      "\u001b[38;5;9m2738_mixture_vox3.nii.gz\u001b[0m\n",
      "\u001b[m"
     ]
    }
   ],
   "source": [
    "echo $output_images\n",
    "ls $output_images"
   ]
  },
  {
   "cell_type": "markdown",
   "metadata": {},
   "source": [
    "(I think there's an error in the encoding of printed tabs when this is converted to .md)\n",
    "\n",
    "I decided to wrap these three steps into one `Rscript`, `Extrap_Diff_Tidy.R`, because the process is bottlenecked by jumping in and out of R session. You can call it like so:"
   ]
  },
  {
   "cell_type": "code",
   "execution_count": 2,
   "metadata": {
    "scrolled": true
   },
   "outputs": [
    {
     "name": "stdout",
     "output_type": "stream",
     "text": [
      "During startup - Warning messages:\n",
      "1: Setting LC_CTYPE failed, using \"C\" \n",
      "2: Setting LC_COLLATE failed, using \"C\" \n",
      "3: Setting LC_TIME failed, using \"C\" \n",
      "4: Setting LC_MESSAGES failed, using \"C\" \n",
      "5: Setting LC_MONETARY failed, using \"C\" \n",
      "6: Setting LC_PAPER failed, using \"C\" \n",
      "7: Setting LC_MEASUREMENT failed, using \"C\" \n",
      "[1] \"Running imco with neighbourhood: 3,\\nBBLID: 81287\\nScanID: 2738,\\nMask: /home/ttapera/data/jux/BBL/projects/isla/data/Masks/gm10perc_PcaslCoverageMask.nii.gz\"\n",
      "oro.nifti 0.9.1\n",
      "\n",
      "Attaching package: 'ANTsRCore'\n",
      "\n",
      "The following objects are masked from 'package:oro.nifti':\n",
      "\n",
      "    origin, origin<-\n",
      "\n",
      "The following object is masked from 'package:stats':\n",
      "\n",
      "    var\n",
      "\n",
      "The following objects are masked from 'package:base':\n",
      "\n",
      "    all, any, apply, max, min, prod, range, sum\n",
      "\n",
      "\n",
      "Attaching package: 'extrantsr'\n",
      "\n",
      "The following objects are masked from 'package:ANTsRCore':\n",
      "\n",
      "    origin, origin<-\n",
      "\n",
      "The following objects are masked from 'package:oro.nifti':\n",
      "\n",
      "    origin, origin<-\n",
      "\n",
      "\n",
      "Attaching package: 'dplyr'\n",
      "\n",
      "The following object is masked from 'package:oro.nifti':\n",
      "\n",
      "    slice\n",
      "\n",
      "The following objects are masked from 'package:stats':\n",
      "\n",
      "    filter, lag\n",
      "\n",
      "The following objects are masked from 'package:base':\n",
      "\n",
      "    intersect, setdiff, setequal, union\n",
      "\n",
      "[[1]]\n",
      "[1] FALSE\n",
      "\n",
      "[[2]]\n",
      "[1] TRUE\n",
      "\n",
      "[[3]]\n",
      "[1] TRUE\n",
      "\n",
      "[[4]]\n",
      "[1] TRUE\n",
      "\n",
      "[[5]]\n",
      "[1] TRUE\n",
      "\n",
      "[[6]]\n",
      "[1] TRUE\n",
      "\n",
      "[[7]]\n",
      "[1] TRUE\n",
      "\n",
      "[[8]]\n",
      "[1] TRUE\n",
      "\n",
      "[[9]]\n",
      "[1] TRUE\n",
      "\n",
      "There were 50 or more warnings (use warnings() to see the first 50)\n",
      "[1] \"CBF read in successfully\"\n",
      "[1] \"GMD read in successully\"\n",
      "[1] \"mask read in successfully\"\n",
      "# Extracting neighborhood data \n",
      "# Computing weighted regressions \n",
      "NULL\n",
      "Loading required package: oro.nifti\n",
      "oro.nifti 0.9.9\n",
      "\n",
      "Attaching package: ‘dplyr’\n",
      "\n",
      "The following object is masked from ‘package:oro.nifti’:\n",
      "\n",
      "    slice\n",
      "\n",
      "The following objects are masked from ‘package:stats’:\n",
      "\n",
      "    filter, lag\n",
      "\n",
      "The following objects are masked from ‘package:base’:\n",
      "\n",
      "    intersect, setdiff, setequal, union\n",
      "\n",
      "# Extrapolating...\n",
      "Predict GMD=1 successful\n",
      "Predict GMD + slope successful\n",
      "Y image read in successful\n",
      "Extrapolate Map Complete\n",
      "# Calculating Difference map...\n",
      "Isla read in successful\n",
      "Complete\n",
      "# Renaming...\n",
      "[1] TRUE TRUE TRUE TRUE TRUE TRUE TRUE\n",
      "Files named successfully\n",
      "ISLA IMAGES CALCULATED\n",
      "During startup - Warning messages:\n",
      "1: Setting LC_CTYPE failed, using \"C\" \n",
      "2: Setting LC_COLLATE failed, using \"C\" \n",
      "3: Setting LC_TIME failed, using \"C\" \n",
      "4: Setting LC_MESSAGES failed, using \"C\" \n",
      "5: Setting LC_MONETARY failed, using \"C\" \n",
      "6: Setting LC_PAPER failed, using \"C\" \n",
      "7: Setting LC_MEASUREMENT failed, using \"C\" \n",
      "[1] \"Running imco with neighbourhood: 4,\\nBBLID: 81287\\nScanID: 2738,\\nMask: /home/ttapera/data/jux/BBL/projects/isla/data/Masks/gm10perc_PcaslCoverageMask.nii.gz\"\n",
      "oro.nifti 0.9.1\n",
      "\n",
      "Attaching package: 'ANTsRCore'\n",
      "\n",
      "The following objects are masked from 'package:oro.nifti':\n",
      "\n",
      "    origin, origin<-\n",
      "\n",
      "The following object is masked from 'package:stats':\n",
      "\n",
      "    var\n",
      "\n",
      "The following objects are masked from 'package:base':\n",
      "\n",
      "    all, any, apply, max, min, prod, range, sum\n",
      "\n",
      "\n",
      "Attaching package: 'extrantsr'\n",
      "\n",
      "The following objects are masked from 'package:ANTsRCore':\n",
      "\n",
      "    origin, origin<-\n",
      "\n",
      "The following objects are masked from 'package:oro.nifti':\n",
      "\n",
      "    origin, origin<-\n",
      "\n",
      "\n",
      "Attaching package: 'dplyr'\n",
      "\n",
      "The following object is masked from 'package:oro.nifti':\n",
      "\n",
      "    slice\n",
      "\n",
      "The following objects are masked from 'package:stats':\n",
      "\n",
      "    filter, lag\n",
      "\n",
      "The following objects are masked from 'package:base':\n",
      "\n",
      "    intersect, setdiff, setequal, union\n",
      "\n",
      "[[1]]\n",
      "[1] FALSE\n",
      "\n",
      "[[2]]\n",
      "[1] TRUE\n",
      "\n",
      "[[3]]\n",
      "[1] TRUE\n",
      "\n",
      "[[4]]\n",
      "[1] TRUE\n",
      "\n",
      "[[5]]\n",
      "[1] TRUE\n",
      "\n",
      "[[6]]\n",
      "[1] TRUE\n",
      "\n",
      "[[7]]\n",
      "[1] TRUE\n",
      "\n",
      "[[8]]\n",
      "[1] TRUE\n",
      "\n",
      "[[9]]\n",
      "[1] TRUE\n",
      "\n",
      "There were 50 or more warnings (use warnings() to see the first 50)\n",
      "[1] \"CBF read in successfully\"\n",
      "[1] \"GMD read in successully\"\n",
      "[1] \"mask read in successfully\"\n",
      "# Extracting neighborhood data \n",
      "# Computing weighted regressions \n",
      "NULL\n",
      "Loading required package: oro.nifti\n",
      "oro.nifti 0.9.9\n",
      "\n",
      "Attaching package: ‘dplyr’\n",
      "\n",
      "The following object is masked from ‘package:oro.nifti’:\n",
      "\n",
      "    slice\n",
      "\n",
      "The following objects are masked from ‘package:stats’:\n",
      "\n",
      "    filter, lag\n",
      "\n",
      "The following objects are masked from ‘package:base’:\n",
      "\n",
      "    intersect, setdiff, setequal, union\n",
      "\n",
      "# Extrapolating...\n",
      "Predict GMD=1 successful\n",
      "Predict GMD + slope successful\n",
      "Y image read in successful\n",
      "Extrapolate Map Complete\n",
      "# Calculating Difference map...\n",
      "Isla read in successful\n",
      "Complete\n",
      "# Renaming...\n",
      "[1] TRUE TRUE TRUE TRUE TRUE TRUE TRUE\n",
      "Files named successfully\n",
      "ISLA IMAGES CALCULATED\n"
     ]
    }
   ],
   "source": [
    "cbfMask=/data/jux/BBL/projects/isla/data/Masks/gm10perc_PcaslCoverageMask.nii.gz\n",
    "modality=cbf\n",
    "bblid=81287\n",
    "scanid=2738\n",
    "output_images=/data/jux/BBL/projects/isla/data/imco1/gmd_$modality/$bblid\n",
    "\n",
    "# the size of the local kernel\n",
    "size=3\n",
    "\n",
    "/share/apps/singularity/2.5.1/bin/singularity exec -B /data:/home/ttapera/data /data/joy/BBL/applications/bids_apps/imco1.simg Rscript /home/ttapera/data/jux/BBL/projects/isla/code/ISLA_Maps/IMCo_Call.R $bblid $scanid /home/ttapera$cbfMask $modality $size\n",
    "Rscript /data/jux/BBL/projects/isla/code/ISLA_Maps/Extrap_Diff_Tidy.R $output_images $bblid $scanid $modality $size\n",
    "\n",
    "# the size of the local kernel\n",
    "size=4\n",
    "\n",
    "/share/apps/singularity/2.5.1/bin/singularity exec -B /data:/home/ttapera/data /data/joy/BBL/applications/bids_apps/imco1.simg Rscript /home/ttapera/data/jux/BBL/projects/isla/code/ISLA_Maps/IMCo_Call.R $bblid $scanid /home/ttapera$cbfMask $modality $size\n",
    "Rscript /data/jux/BBL/projects/isla/code/ISLA_Maps/Extrap_Diff_Tidy.R $output_images $bblid $scanid $modality $size"
   ]
  },
  {
   "cell_type": "code",
   "execution_count": 3,
   "metadata": {},
   "outputs": [
    {
     "name": "stdout",
     "output_type": "stream",
     "text": [
      "\u001b[0m\u001b[38;5;9m81287_2738_beta0_vox3.nii.gz\u001b[0m      \u001b[38;5;9m81287_2738_mixture_vox4.nii.gz\u001b[0m\n",
      "\u001b[38;5;9m81287_2738_beta0_vox4.nii.gz\u001b[0m      \u001b[38;5;9m81287_2738_predictedGMD1_vox3.nii.gz\u001b[0m\n",
      "\u001b[38;5;9m81287_2738_beta1_vox3.nii.gz\u001b[0m      \u001b[38;5;9m81287_2738_predictedGMD1_vox4.nii.gz\u001b[0m\n",
      "\u001b[38;5;9m81287_2738_beta1_vox4.nii.gz\u001b[0m      \u001b[38;5;9m81287_2738_predictedGMDobs_vox3.nii.gz\u001b[0m\n",
      "\u001b[38;5;9m81287_2738_isla_diff_vox3.nii.gz\u001b[0m  \u001b[38;5;9m81287_2738_predictedGMDobs_vox4.nii.gz\u001b[0m\n",
      "\u001b[38;5;9m81287_2738_isla_diff_vox4.nii.gz\u001b[0m  \u001b[38;5;9m81287_2738_rsquared_vox3.nii.gz\u001b[0m\n",
      "\u001b[38;5;9m81287_2738_mixture_vox3.nii.gz\u001b[0m    \u001b[38;5;9m81287_2738_rsquared_vox4.nii.gz\u001b[0m\n",
      "\u001b[m"
     ]
    }
   ],
   "source": [
    "ls /data/jux/BBL/projects/isla/data/imco1/gmd_cbf/81287"
   ]
  },
  {
   "cell_type": "markdown",
   "metadata": {},
   "source": [
    "The final `qsub` call is in `/data/jux/BBL/projects/isla/code/qsub_Calls/ComputeISLAMaps.sh`, which loops over the samples like so:"
   ]
  },
  {
   "cell_type": "code",
   "execution_count": null,
   "metadata": {},
   "outputs": [],
   "source": [
    "##### CBF ####\n",
    "echo CBF.....\n",
    "modality=cbf\n",
    "\n",
    "# Read in the data\n",
    "cbfMask=/data/jux/BBL/projects/isla/data/Masks/gm10perc_PcaslCoverageMask.nii.gz\n",
    "cbfParticipants=/data/jux/BBL/projects/isla/data/Reproducibility/cbfSample.csv\n",
    "\n",
    "#### SIZE ####\n",
    "size=3\n",
    " Loop through CBF participants and execute\n",
    "sed 1d $cbfParticipants | while IFS=\",\" read -r row bblid scanid; do\n",
    "\n",
    "        output_images=/data/jux/BBL/projects/isla/data/imco1/gmd_$modality/$bblid\n",
    "        /share/apps/singularity/2.5.1/bin/singularity exec -B /data:/home/ttapera/data /data/joy/BBL/applications/bids_apps/imco1.simg Rscript /home/ttapera/data/jux/BBL/projects/isla/code/ISLA_Maps/IMCo_Call.R $bblid $scanid /home/ttapera$cbfMask $modality $size\n",
    "        Rscript /data/jux/BBL/projects/isla/code/ISLA_Maps/Extrap_Diff_Tidy.R $output_images $bblid $scanid $modality $size\n",
    "\n",
    "done"
   ]
  }
 ],
 "metadata": {
  "kernelspec": {
   "display_name": "Bash",
   "language": "bash",
   "name": "bash"
  },
  "language_info": {
   "codemirror_mode": "shell",
   "file_extension": ".sh",
   "mimetype": "text/x-sh",
   "name": "bash"
  }
 },
 "nbformat": 4,
 "nbformat_minor": 2
}
