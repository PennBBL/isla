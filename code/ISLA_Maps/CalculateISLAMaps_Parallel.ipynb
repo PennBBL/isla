{
 "cells": [
  {
   "cell_type": "markdown",
   "metadata": {},
   "source": [
    "# Parallelising ISLA Map Calculation"
   ]
  },
  {
   "cell_type": "markdown",
   "metadata": {},
   "source": [
    "Instead of waiting ages for a series job we will parallelise the process with an SGE task array.\n",
    "\n",
    "We'll run cbf, alff, and reho as separate scripts, firstly. Each script will run both size parameters 3 & 4, but the SGE task array will operate on the BBLID and ScanID variables. For example, for the CBF script:"
   ]
  },
  {
   "cell_type": "code",
   "execution_count": 11,
   "metadata": {},
   "outputs": [
    {
     "name": "stdout",
     "output_type": "stream",
     "text": [
      "CBF.....\n",
      "\n",
      "/share/apps/singularity/2.5.1/bin/singularity exec -B /data:/home/ttapera/data /data/joy/BBL/applications/bids_apps/imco1.simg Rscript /home/ttapera/data/jux/BBL/projects/isla/code/ISLA_Maps/IMCo_Call.R 80812 2646 /home/ttapera/data/jux/BBL/projects/isla/data/Masks/gm10perc_PcaslCoverageMask.nii.gz cbf 3\n",
      "Rscript /data/jux/BBL/projects/isla/code/ISLA_Maps/Extrap_Diff_Tidy.R /data/jux/BBL/projects/isla/data/imco1/gmd_cbf/80812 80812 2646 cbf 3\n",
      "\n",
      "/share/apps/singularity/2.5.1/bin/singularity exec -B /data:/home/ttapera/data /data/joy/BBL/applications/bids_apps/imco1.simg Rscript /home/ttapera/data/jux/BBL/projects/isla/code/ISLA_Maps/IMCo_Call.R 80812 2646 /home/ttapera/data/jux/BBL/projects/isla/data/Masks/gm10perc_PcaslCoverageMask.nii.gz cbf 4\n",
      "Rscript /data/jux/BBL/projects/isla/code/ISLA_Maps/Extrap_Diff_Tidy.R /data/jux/BBL/projects/isla/data/imco1/gmd_cbf/80812 80812 2646 cbf 4\n",
      "---\n",
      "\n",
      "/share/apps/singularity/2.5.1/bin/singularity exec -B /data:/home/ttapera/data /data/joy/BBL/applications/bids_apps/imco1.simg Rscript /home/ttapera/data/jux/BBL/projects/isla/code/ISLA_Maps/IMCo_Call.R 80607 2647 /home/ttapera/data/jux/BBL/projects/isla/data/Masks/gm10perc_PcaslCoverageMask.nii.gz cbf 3\n",
      "Rscript /data/jux/BBL/projects/isla/code/ISLA_Maps/Extrap_Diff_Tidy.R /data/jux/BBL/projects/isla/data/imco1/gmd_cbf/80607 80607 2647 cbf 3\n",
      "\n",
      "/share/apps/singularity/2.5.1/bin/singularity exec -B /data:/home/ttapera/data /data/joy/BBL/applications/bids_apps/imco1.simg Rscript /home/ttapera/data/jux/BBL/projects/isla/code/ISLA_Maps/IMCo_Call.R 80607 2647 /home/ttapera/data/jux/BBL/projects/isla/data/Masks/gm10perc_PcaslCoverageMask.nii.gz cbf 4\n",
      "Rscript /data/jux/BBL/projects/isla/code/ISLA_Maps/Extrap_Diff_Tidy.R /data/jux/BBL/projects/isla/data/imco1/gmd_cbf/80607 80607 2647 cbf 4\n",
      "---\n",
      "\n",
      "/share/apps/singularity/2.5.1/bin/singularity exec -B /data:/home/ttapera/data /data/joy/BBL/applications/bids_apps/imco1.simg Rscript /home/ttapera/data/jux/BBL/projects/isla/code/ISLA_Maps/IMCo_Call.R 80249 2648 /home/ttapera/data/jux/BBL/projects/isla/data/Masks/gm10perc_PcaslCoverageMask.nii.gz cbf 3\n",
      "Rscript /data/jux/BBL/projects/isla/code/ISLA_Maps/Extrap_Diff_Tidy.R /data/jux/BBL/projects/isla/data/imco1/gmd_cbf/80249 80249 2648 cbf 3\n",
      "\n",
      "/share/apps/singularity/2.5.1/bin/singularity exec -B /data:/home/ttapera/data /data/joy/BBL/applications/bids_apps/imco1.simg Rscript /home/ttapera/data/jux/BBL/projects/isla/code/ISLA_Maps/IMCo_Call.R 80249 2648 /home/ttapera/data/jux/BBL/projects/isla/data/Masks/gm10perc_PcaslCoverageMask.nii.gz cbf 4\n",
      "Rscript /data/jux/BBL/projects/isla/code/ISLA_Maps/Extrap_Diff_Tidy.R /data/jux/BBL/projects/isla/data/imco1/gmd_cbf/80249 80249 2648 cbf 4\n",
      "---\n"
     ]
    }
   ],
   "source": [
    "echo CBF.....\n",
    "modality=cbf\n",
    "\n",
    "# Read in the data\n",
    "cbfMask=/data/jux/BBL/projects/isla/data/Masks/gm10perc_PcaslCoverageMask.nii.gz\n",
    "cbfParticipants=/data/jux/BBL/projects/isla/data/cbfSample.csv\n",
    "\n",
    "for x in `seq 1 3`;\n",
    "do\n",
    "    # the lines below uses awk to assign the value of a csv to the variable\n",
    "    bblid=$(awk -F, -v \"line=$x\" 'NR==line+1 {print $2}' $cbfParticipants)\n",
    "    scanid=$(awk -F, -v \"line=$x\" 'NR==line+1 {print $3}' $cbfParticipants)\n",
    "    \n",
    "    size=3\n",
    "    output_images=/data/jux/BBL/projects/isla/data/imco1/gmd_$modality/$bblid\n",
    "    echo\n",
    "    echo /share/apps/singularity/2.5.1/bin/singularity exec -B /data:/home/ttapera/data /data/joy/BBL/applications/bids_apps/imco1.simg Rscript /home/ttapera/data/jux/BBL/projects/isla/code/ISLA_Maps/IMCo_Call.R $bblid $scanid /home/ttapera$cbfMask $modality $size\n",
    "    echo Rscript /data/jux/BBL/projects/isla/code/ISLA_Maps/Extrap_Diff_Tidy.R $output_images $bblid $scanid $modality $size\n",
    "\n",
    "    echo\n",
    "\n",
    "    size=4\n",
    "    output_images=/data/jux/BBL/projects/isla/data/imco1/gmd_$modality/$bblid\n",
    "    echo /share/apps/singularity/2.5.1/bin/singularity exec -B /data:/home/ttapera/data /data/joy/BBL/applications/bids_apps/imco1.simg Rscript /home/ttapera/data/jux/BBL/projects/isla/code/ISLA_Maps/IMCo_Call.R $bblid $scanid /home/ttapera$cbfMask $modality $size\n",
    "    echo Rscript /data/jux/BBL/projects/isla/code/ISLA_Maps/Extrap_Diff_Tidy.R $output_images $bblid $scanid $modality $size\n",
    "    echo ---\n",
    "done"
   ]
  },
  {
   "cell_type": "markdown",
   "metadata": {},
   "source": [
    "Above, we've managed to use `awk` to assign the values from a csv to the variable. In this case, `x` comes from the sequence loop. Using an SGE task array, we can replace `x` with the `SGE_TASK_ID` variable, and loop the script using the flag `-t` in the preamble. We also have to skip the first line of the loop since there is a header."
   ]
  },
  {
   "cell_type": "markdown",
   "metadata": {},
   "source": [
    "```\n",
    "NOT RUN\n",
    "\n",
    "#!/bin/bash\n",
    "#$ -t 2:4\n",
    "\n",
    "echo CBF.....\n",
    "modality=cbf\n",
    "\n",
    "# Read in the data\n",
    "cbfMask=/data/jux/BBL/projects/isla/data/Masks/gm10perc_PcaslCoverageMask.nii.gz\n",
    "\n",
    "# the line below uses awk to assign the value of a csv to the variable\n",
    "bblid=$(awk -F, -v \"line=$SGE_TASK_ID\" 'NR==line+1 {print $2}' /data/jux/BBL/projects/isla/data/cbfSample.csv)\n",
    "scanid=$(awk -F, -v \"line=$SGE_TASK_ID\" 'NR==line+1 {print $3}' /data/jux/BBL/projects/isla/data/cbfSample.csv)\n",
    "\n",
    "size=3\n",
    "output_images=/data/jux/BBL/projects/isla/data/imco1/gmd_$modality/$bblid\n",
    "echo\n",
    "echo /share/apps/singularity/2.5.1/bin/singularity exec -B /data:/home/ttapera/data /data/joy/BBL/applications/bids_apps/imco1.simg Rscript /home/ttapera/data/jux/BBL/projects/isla/code/ISLA_Maps/IMCo_Call.R $bblid $scanid /home/ttapera$cbfMask $modality $size\n",
    "echo Rscript /data/jux/BBL/projects/isla/code/ISLA_Maps/Extrap_Diff_Tidy.R $output_images $bblid $scanid $modality $size\n",
    "\n",
    "echo\n",
    "\n",
    "size=4\n",
    "output_images=/data/jux/BBL/projects/isla/data/imco1/gmd_$modality/$bblid\n",
    "echo /share/apps/singularity/2.5.1/bin/singularity exec -B /data:/home/ttapera/data /data/joy/BBL/applications/bids_apps/imco1.simg Rscript /home/ttapera/data/jux/BBL/projects/isla/code/ISLA_Maps/IMCo_Call.R $bblid $scanid /home/ttapera$cbfMask $modality $size\n",
    "echo Rscript /data/jux/BBL/projects/isla/code/ISLA_Maps/Extrap_Diff_Tidy.R $output_images $bblid $scanid $modality $size\n",
    "echo ---\n",
    "```"
   ]
  },
  {
   "cell_type": "markdown",
   "metadata": {},
   "source": [
    "This is wrapped in the scripts `/data/jux/BBL/projects/isla/code/qsub_Calls/ComputeISLA_*_parallel.sh`. The `qsub` call for these looks like:\n",
    "```\n",
    "qsub -l h_vmem=30.5G,s_vmem=30G -q himem.q ComputeISLA_*_parallel.sh\n",
    "```"
   ]
  },
  {
   "cell_type": "code",
   "execution_count": null,
   "metadata": {},
   "outputs": [],
   "source": []
  }
 ],
 "metadata": {
  "kernelspec": {
   "display_name": "Bash",
   "language": "bash",
   "name": "bash"
  },
  "language_info": {
   "codemirror_mode": "shell",
   "file_extension": ".sh",
   "mimetype": "text/x-sh",
   "name": "bash"
  }
 },
 "nbformat": 4,
 "nbformat_minor": 2
}
